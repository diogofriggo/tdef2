{
 "cells": [
  {
   "cell_type": "code",
   "execution_count": 48,
   "metadata": {},
   "outputs": [
    {
     "name": "stdout",
     "output_type": "stream",
     "text": [
      "QUÍMICA:  \t\t\t\t09/07/2014 - 07/08/2014 (química)\n",
      "100 h\n",
      "PROGRAMA DE BOLSAS DE EXTENSÃO: \t08/08/2014 - 30/11/2014 (walberto)\n",
      "324 h\n",
      "APRESENTAÇÃO TERTÚLIA\n",
      "3 h\n",
      "IC UFRGS-REUNI: \t\t\t01/05/2015 - 31/07/2015 (faced)\n",
      "252 h\n",
      "BIT UFRGS: \t\t\t\t01/08/2015 - 30/09/2015 (pezzi)\n",
      "164 h\n",
      "PIBIC CNPq-UFRGS: \t\t\t01/08/2017 - 31/03/2018 (betinho)\n",
      "656 h\n",
      "curso de verão: \t\t\t15/02/2016 - 26/02/2016\n",
      "60 h\n",
      "1 crédito eletivo sobrando\n",
      "15 h\n",
      "tópicos avançados de física I\n",
      "60 h\n",
      "mecânica clássica I-B\n",
      "90 h\n",
      "análise matemática A\n",
      "60 h\n",
      "6 meses estágio DNV GL: \t\t02/05/2018 - 02/11/2018\n",
      "768 h\n",
      "1784 h 768 h 2552 h\n",
      "falta angra dos reis\n",
      "falta simpósio da engenharia física\n",
      "falta 2 arduino days\n",
      "falta solid works\n",
      "falta 2 conversas ao pé do físico\n"
     ]
    }
   ],
   "source": [
    "from datetime import date\n",
    "import numpy as np\n",
    "import holidays\n",
    "\n",
    "def get_complementares():\n",
    "    hdays = [k for k,v in holidays.Brazil(state='RS', years=np.arange(2014, 2020)).items()]\n",
    "    yield 'QUÍMICA:  \t\t\t\t09/07/2014 - 07/08/2014 (química)'    \n",
    "    yield int((24/5)*np.busday_count(date(2014, 7, 9), date(2014, 8, 7), holidays=hdays))\n",
    "\n",
    "    #a) participação ativa em projetos de extensão universitária, devidamente registrados nos órgãos competentes, como bolsista remunerado ou voluntário;\n",
    "    yield 'PROGRAMA DE BOLSAS DE EXTENSÃO: \t08/08/2014 - 30/11/2014 (walberto)'\n",
    "    yield 4*np.busday_count(date(2014, 8, 8), date(2014, 11, 30), holidays=hdays)\n",
    "\n",
    "    #a) participação ativa em projetos de extensão universitária, devidamente registrados nos órgãos competentes, como bolsista remunerado ou voluntário;\n",
    "    yield 'APRESENTAÇÃO TERTÚLIA'\n",
    "    yield 3\n",
    "    \n",
    "    #II - atividades de iniciação científica;\n",
    "    yield 'IC UFRGS-REUNI: \t\t\t01/05/2015 - 31/07/2015 (faced)'\n",
    "    yield 4*np.busday_count(date(2015, 5, 1), date(2015, 7, 31), holidays=hdays)\n",
    "\n",
    "    #II - atividades de iniciação científica;\n",
    "    yield 'BIT UFRGS: \t\t\t\t01/08/2015 - 30/09/2015 (pezzi)'\n",
    "    yield 4*np.busday_count(date(2015, 8, 1), date(2015, 9, 30), holidays=hdays)\n",
    "\n",
    "    #II - atividades de iniciação científica;\n",
    "    yield 'PIBIC CNPq-UFRGS: \t\t\t01/08/2017 - 31/03/2018 (betinho)'\n",
    "    yield 4*np.busday_count(date(2017, 8, 1), date(2018, 3, 31), holidays=hdays)\n",
    "\n",
    "    #c) participação como agente passivo em cursos, seminários e demais atividades de extensão universitária, excluídas as atividades de prestação de serviços que envolvam remuneração de servidores docentes e/ou técnico-administrativos da UFRGS.\n",
    "    yield 'curso de verão: \t\t\t15/02/2016 - 26/02/2016' #falta pagar a guia pra emitir o certificado\n",
    "    yield 60    \n",
    "    \n",
    "    #VI - disciplinas eletivas, quando excedentes ao número de créditos eletivos exigidos pelo Curso, cursadas com aproveitamento;\n",
    "    yield '1 crédito eletivo sobrando'\n",
    "    yield 15\n",
    "    \n",
    "    #VIII - disciplinas adicionais, cursadas com aproveitamento;\n",
    "    yield 'tópicos avançados de física I'\n",
    "    yield 60\n",
    "    \n",
    "    #VIII - disciplinas adicionais, cursadas com aproveitamento;\n",
    "    yield 'mecânica clássica I-B'\n",
    "    yield 90\n",
    "    \n",
    "    #VIII - disciplinas adicionais, cursadas com aproveitamento;\n",
    "    yield 'análise matemática A'\n",
    "    yield 60\n",
    "    \n",
    "    yield '6 meses estágio DNV GL: \t\t02/05/2018 - 02/11/2018'\n",
    "    yield 6*np.busday_count(date(2018, 5, 2), date(2018, 11, 2), holidays=hdays)\n",
    "\n",
    "result = np.array(list(get_complementares()))\n",
    "names, times = result[::2], result[1::2].astype(int)\n",
    "for k,v in zip(names, times):\n",
    "    print(k)\n",
    "    print(v, 'h')\n",
    "print(sum(times[:-1]), 'h', times[-1], 'h', sum(times), 'h')\n",
    "\n",
    "print('falta angra dos reis')\n",
    "print('falta simpósio da engenharia física')\n",
    "print('falta 2 arduino days')\n",
    "print('falta solid works')\n",
    "print('falta 2 conversas ao pé do físico')\n",
    "#sao necessários 90h sendo que pelo menos 15h devem ser de uma categoria diferente\n",
    "#valido 75h de cadeiras e 15h de curso de verão?"
   ]
  },
  {
   "cell_type": "code",
   "execution_count": 61,
   "metadata": {},
   "outputs": [
    {
     "data": {
      "text/plain": [
       "11.899999999999999"
      ]
     },
     "execution_count": 61,
     "metadata": {},
     "output_type": "execute_result"
    }
   ],
   "source": [
    "# Curricular (carga horária total) .... 3780 h\n",
    "# 1. Atividades Obrigatórias ..........................3330 h (88,1%)\n",
    "# 1.1. Disciplinas ....................................2910 h (77,0%)\n",
    "# 1.2. Trabalho de Diplomação ..........................120 h (3,2%)\n",
    "# 1.3. Estágio Supervisionado ..........................300 h (7,9%)\n",
    "# 2. Disciplinas Eletivas ............................. 360 h (9,5%)\n",
    "# 3. Atividades Complementares ..........................90 h (2,4%)\n",
    "\n",
    "(1-(0.77 + 0.032/2 + 0.095))*100"
   ]
  },
  {
   "cell_type": "code",
   "execution_count": 27,
   "metadata": {},
   "outputs": [
    {
     "name": "stdout",
     "output_type": "stream",
     "text": [
      "I - atividades de extensão universitária, nas seguintes categorias e ordem de precedência:\n",
      "a) participação ativa em projetos de extensão universitária, devidamente registrados nos órgãos competentes, como bolsista remunerado ou voluntário;\n",
      "PROGRAMA DE BOLSAS DE EXTENSÃO walberto 08/08/2014 - 30/11/2014 {hours[-1]} h\n",
      "APRESENTAÇÃO TERTÚLIA walberto {hours[-1]} h\n",
      "curso de verão método dos elementos finitos 15/02/2016 - 26/02/2016 {hours[-1]} h\n",
      "c) participação como agente passivo em cursos, seminários e demais atividades de extensão universitária, excluídas as atividades de prestação de serviços que envolvam remuneração de servidores docentes e/ou técnico-administrativos da UFRGS.\n",
      "II - atividades de iniciação científica\n",
      "IC UFRGS-REUNI faced 01/05/2015 - 31/07/2015 {hours} h\n",
      "BIT UFRGS CTA 01/08/2015 - 30/09/2015 {hours} h\n",
      "PIBIC CNPq-UFRGS 01/08/2017 - 31/03/2018 {hours} h\n",
      "IV - atividades desenvolvidas como Bolsa PET (Programa de Educação Tutorial), Bolsa EAD (Educação a Distância) e demais bolsas acadêmicas;\n",
      "QUÍMICA 09/07/2014 - 07/08/2014 {hours} h\n",
      "total de 1543.0 h = 25.716666666666665 créditos\n",
      "VI - disciplinas eletivas, quando excedentes ao número de créditos eletivos exigidos pelo Curso, cursadas com aproveitamento\n",
      "1 crédito eletivo solar sobrando 15 h = 1 crédito\n",
      "VIII - disciplinas adicionais, cursadas com aproveitamento;\n",
      "tópicos avançados de física I [60.  0.  0.  0.  0.  0.  0.  0.  0.  0.] h\n",
      "mecânica clássica I-B [60. 90.  0.  0.  0.  0.  0.  0.  0.  0.] h\n",
      "análise matemática A [60. 90. 60.  0.  0.  0.  0.  0.  0.  0.] h\n",
      "total de 210.0 h = 14.0 créditos\n",
      "V – estágios não obrigatórios desenvolvidos pelo discente; (alterado pela Res. nº 50/2009)\n",
      "6 meses estágio DNV GL 02/05/2018 - 02/11/2018 768 h\n"
     ]
    }
   ],
   "source": [
    "hours = np.zeros(20)\n",
    "print('I - atividades de extensão universitária, nas seguintes categorias e ordem de precedência:')\n",
    "\n",
    "print('a) participação ativa em projetos de extensão universitária, devidamente registrados nos órgãos competentes, como bolsista remunerado ou voluntário;')\n",
    "\n",
    "hours[0] = 324\n",
    "print('PROGRAMA DE BOLSAS DE EXTENSÃO walberto 08/08/2014 - 30/11/2014 {hours[-1]} h')\n",
    "hours[1] = 3\n",
    "print('APRESENTAÇÃO TERTÚLIA walberto {hours[-1]} h')\n",
    "hours[2] = 60\n",
    "print('curso de verão método dos elementos finitos 15/02/2016 - 26/02/2016 {hours[-1]} h')\n",
    "\n",
    "print('c) participação como agente passivo em cursos, seminários e demais atividades de extensão universitária, excluídas as atividades de prestação de serviços que envolvam remuneração de servidores docentes e/ou técnico-administrativos da UFRGS.')\n",
    "print('II - atividades de iniciação científica')\n",
    "\n",
    "hours[3] = 252\n",
    "print('IC UFRGS-REUNI faced 01/05/2015 - 31/07/2015 {hours} h')\n",
    "hours[4] = 164\n",
    "print('BIT UFRGS CTA 01/08/2015 - 30/09/2015 {hours} h')\n",
    "hours[5] = 656\n",
    "print('PIBIC CNPq-UFRGS 01/08/2017 - 31/03/2018 {hours} h')\n",
    "\n",
    "print('IV - atividades desenvolvidas como Bolsa PET (Programa de Educação Tutorial), Bolsa EAD (Educação a Distância) e demais bolsas acadêmicas;')\n",
    "hours[6] = 84\n",
    "print('QUÍMICA 09/07/2014 - 07/08/2014 {hours} h')\n",
    "\n",
    "print(f'total de {sum(hours)} h = {sum(hours)/60} créditos')\n",
    "\n",
    "print('VI - disciplinas eletivas, quando excedentes ao número de créditos eletivos exigidos pelo Curso, cursadas com aproveitamento')\n",
    "print(f'1 crédito eletivo solar sobrando 15 h = 1 crédito')\n",
    "\n",
    "hours = np.zeros(10)\n",
    "print('VIII - disciplinas adicionais, cursadas com aproveitamento;')\n",
    "hours[0] = 60\n",
    "print(f'tópicos avançados de física I {hours} h')\n",
    "hours[1] = 90\n",
    "print(f'mecânica clássica I-B {hours} h')\n",
    "hours[2] = 60\n",
    "print(f'análise matemática A {hours} h')\n",
    "print(f'total de {sum(hours)} h = {sum(hours)/15} créditos')\n",
    "\n",
    "print('V – estágios não obrigatórios desenvolvidos pelo discente; (alterado pela Res. nº 50/2009)')\n",
    "#hours[11] = 768\n",
    "print('6 meses estágio DNV GL 02/05/2018 - 02/11/2018 768 h')"
   ]
  },
  {
   "cell_type": "code",
   "execution_count": 50,
   "metadata": {},
   "outputs": [
    {
     "name": "stdout",
     "output_type": "stream",
     "text": [
      "walberto 327 h = 5 créditos, tem apresentação em salão de extensão\n",
      "curso de verão 60 h = 1 crédito\n",
      "[4.2, 2.7333333333333334, 10.933333333333334, 1.6666666666666667]\n",
      "1172 h de bolsas sem apresentação de trabalho = 19 créditos\n",
      "225 h de cadeiras eletivas ou extra curriculares = 15 créditos\n",
      "56 h = 1\n"
     ]
    }
   ],
   "source": [
    "print('walberto 327 h = 5 créditos, tem apresentação em salão de extensão')\n",
    "print('curso de verão 60 h = 1 crédito')\n",
    "bolsas = [252, 164, 656, 100]\n",
    "print([b/60 for b in bolsas])\n",
    "bolsas = sum(bolsas)\n",
    "print(bolsas, f'h de bolsas sem apresentação de trabalho = {int(bolsas/60)} créditos')\n",
    "extra = sum([15, 60, 90, 60])\n",
    "print(extra, f'h de cadeiras eletivas ou extra curriculares = {int(extra/15)} créditos')\n",
    "eventos = sum([30, 26])\n",
    "print(f'{eventos} h = {int(eventos/30)}')"
   ]
  },
  {
   "cell_type": "code",
   "execution_count": null,
   "metadata": {},
   "outputs": [],
   "source": []
  }
 ],
 "metadata": {
  "kernelspec": {
   "display_name": "Python 3",
   "language": "python",
   "name": "python3"
  },
  "language_info": {
   "codemirror_mode": {
    "name": "ipython",
    "version": 3
   },
   "file_extension": ".py",
   "mimetype": "text/x-python",
   "name": "python",
   "nbconvert_exporter": "python",
   "pygments_lexer": "ipython3",
   "version": "3.7.1"
  }
 },
 "nbformat": 4,
 "nbformat_minor": 2
}
