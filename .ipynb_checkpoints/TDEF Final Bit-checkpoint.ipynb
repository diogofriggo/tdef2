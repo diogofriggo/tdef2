{
 "cells": [
  {
   "cell_type": "code",
   "execution_count": null,
   "metadata": {},
   "outputs": [],
   "source": [
    "# ********************************************************************************************************************************  \n",
    "# WARNING DATA ARE IN UTC! PLEASE ADJUST TIME STAMPS FOR PROJECT TIME ZONE \n",
    "# ********************************************************************************************************************************  \n",
    "# Hub height (m AGL)       : 100m \n",
    "# Path to ERA5 files       : /local/ERA5_ASII_South_23084_merged_windspeed.nc \n",
    "# Station name             : ASII_South \n",
    "# Station latitude         : -14.0855 \n",
    "# Station longitude        : -42.6109 \n",
    "# Model latitude/longitude : [-14.09999999999999,-42.60000000000002] [-13.8,-42.60000000000002] [-13.8,-42.30000000000001] [-14.09999999999999,-42.30000000000001] [-14.39999999999999,-42.30000000000001] [-14.39999999999999,-42.60000000000002] [-14.39999999999999,-42.90000000000003] [-14.09999999999999,-42.90000000000003] [-13.8,-42.90000000000003] \n",
    "# ----------------------------------------------------------------------------------------------------------------------------------------------------------------------------------------------------------------------------------------------  \n",
    "# Date           Time(UTC)       c_ws       c_wd         n_ws       n_wd        ne_ws      ne_wd         e_ws       e_wd        se_ws      se_wd         s_ws       s_wd        sw_ws      sw_wd         w_ws       w_wd        nw_ws      nw_wd  \n",
    "# ----------------------------------------------------------------------------------------------------------------------------------------------------------------------------------------------------------------------------------------------  \n",
    "\n",
    "\n",
    "import pandas as pd, numpy as np\n",
    "from pathlib import Path\n",
    "root = Path(r'/home/diogo/Downloads/ERA5')\n",
    "\n",
    "def get_data(root):\n",
    "    for in_path in root.rglob('*.txt'):\n",
    "        with open(in_path) as in_file:\n",
    "            if not in_file.readline().startswith('*'): \n",
    "                out_path = Path(r'/home/diogo/Downloads/ERA5-useless_header') / in_path.name\n",
    "                in_path.rename(out_path)\n",
    "                continue\n",
    "            [in_file.readline() for i in range(5)]\n",
    "            lat, lon = [in_file.readline().split(':')[-1].strip() for _ in range(2)]\n",
    "            yield [str(in_path), in_path.parts[-1].replace('_ERA5', '').replace('.txt', ''), lat, lon]\n",
    "df = pd.DataFrame(get_data(root), columns=['path', 'name', 'lat', 'lon'])\n",
    "df[['lat', 'lon', 'name']].to_csv(root / 'coordinates.csv', index=False)"
   ]
  },
  {
   "cell_type": "code",
   "execution_count": null,
   "metadata": {},
   "outputs": [],
   "source": []
  }
 ],
 "metadata": {
  "kernelspec": {
   "display_name": "Python 3",
   "language": "python",
   "name": "python3"
  },
  "language_info": {
   "codemirror_mode": {
    "name": "ipython",
    "version": 3
   },
   "file_extension": ".py",
   "mimetype": "text/x-python",
   "name": "python",
   "nbconvert_exporter": "python",
   "pygments_lexer": "ipython3",
   "version": "3.7.1"
  }
 },
 "nbformat": 4,
 "nbformat_minor": 2
}
