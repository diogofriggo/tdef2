{
 "cells": [
  {
   "cell_type": "code",
   "execution_count": 2,
   "metadata": {},
   "outputs": [
    {
     "name": "stdout",
     "output_type": "stream",
     "text": [
      "Dionatan says: Eu\n",
      "Dionatan says: me\n",
      "Dionatan says: vou\n",
      "Dionatan says: formar\n",
      "Dionatan says: custe\n",
      "Dionatan says: o\n",
      "Dionatan says: custar\n",
      "Dionatan says: que\n"
     ]
    }
   ],
   "source": [
    "from multiprocessing import Pool, cpu_count\n",
    "\n",
    "def fn(i):\n",
    "    print(f'Dionatan says: {i}')\n",
    "    \n",
    "Pool(cpu_count()).map(fn, 'Eu vou me formar custe o que custar'.split());"
   ]
  },
  {
   "cell_type": "code",
   "execution_count": null,
   "metadata": {},
   "outputs": [],
   "source": []
  }
 ],
 "metadata": {
  "kernelspec": {
   "display_name": "Python 3",
   "language": "python",
   "name": "python3"
  },
  "language_info": {
   "codemirror_mode": {
    "name": "ipython",
    "version": 3
   },
   "file_extension": ".py",
   "mimetype": "text/x-python",
   "name": "python",
   "nbconvert_exporter": "python",
   "pygments_lexer": "ipython3",
   "version": "3.7.1"
  }
 },
 "nbformat": 4,
 "nbformat_minor": 2
}
